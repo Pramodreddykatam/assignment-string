{
  "cells": [
    {
      "cell_type": "markdown",
      "id": "db689fc2",
      "metadata": {
        "id": "db689fc2"
      },
      "source": [
        "### Question 1: Write a Python program to count the number of characters in a string without using len function.\n",
        "\n",
        "- `sample input : `\n",
        "    - `var = 'python java'`\n",
        "- `sample output :`\n",
        "    - `result : 11`"
      ]
    },
    {
      "cell_type": "code",
      "execution_count": null,
      "id": "c9ce9180",
      "metadata": {
        "id": "c9ce9180",
        "outputId": "484f8d39-c290-417f-8f6f-e90d9a8ad692",
        "colab": {
          "base_uri": "https://localhost:8080/"
        }
      },
      "outputs": [
        {
          "output_type": "stream",
          "name": "stdout",
          "text": [
            "11\n"
          ]
        }
      ],
      "source": [
        "# Please write The solution Here for above question 1:\n",
        "input_1 = 'pramodreddy'\n",
        "output_1 = 0\n",
        "for a in input_1:\n",
        "    output_1 = output_1 + 1\n",
        "\n",
        "print(output_1)\n",
        "\n"
      ]
    },
    {
      "cell_type": "markdown",
      "id": "46f069cc",
      "metadata": {
        "id": "46f069cc"
      },
      "source": [
        "### Question 2: Write a Python program to reverse a string without using [::-1]\n",
        "\n",
        "- `sample input : `\n",
        "    - `var = 'python'`\n",
        "- `sample output :`\n",
        "    - `result : nohtyp`"
      ]
    },
    {
      "cell_type": "code",
      "execution_count": null,
      "id": "2cde3dcc",
      "metadata": {
        "id": "2cde3dcc",
        "outputId": "b825f09c-e514-428d-e2fc-576555654e1b",
        "colab": {
          "base_uri": "https://localhost:8080/"
        }
      },
      "outputs": [
        {
          "output_type": "stream",
          "name": "stdout",
          "text": [
            "domarp\n"
          ]
        }
      ],
      "source": [
        "# Please write The solution Here for above question 2:\n",
        "a='pramod'\n",
        "a=\"\".join(reversed(a))\n",
        "print(a)\n",
        "\n"
      ]
    },
    {
      "cell_type": "markdown",
      "id": "0f3a2ef5",
      "metadata": {
        "id": "0f3a2ef5"
      },
      "source": [
        "### Question 3: Write a Python program to check if a string is a palindrome don't use [::-1].\n",
        "\n",
        "- `sample input : `\n",
        "    - `var = 'NUN'`\n",
        "- `sample output :`\n",
        "    - `result : It is a Palindrome`\n",
        "    \n",
        "- `palindrome concept = https://www.dictionary.com/e/palindromic-word/#:~:text=A%20palindrome%20is%20a%20word,roots%20in%20the%20early%201600s.`"
      ]
    },
    {
      "cell_type": "code",
      "execution_count": null,
      "id": "74b9f01a",
      "metadata": {
        "id": "74b9f01a",
        "colab": {
          "base_uri": "https://localhost:8080/"
        },
        "outputId": "a5441654-7245-4459-cebf-264f1e234248"
      },
      "outputs": [
        {
          "output_type": "stream",
          "name": "stdout",
          "text": [
            "It is not a Palindrome\n"
          ]
        }
      ],
      "source": [
        "# Please write The solution Here for above question 3:\n",
        "a='pramod'\n",
        "b=''\n",
        "for c in a:\n",
        "    a = c + b\n",
        "if a == b:\n",
        "    print('It is a Palindrome')\n",
        "else:\n",
        "    print('It is not a Palindrome')\n",
        "\n",
        "\n",
        "\n",
        "\n",
        "\n"
      ]
    },
    {
      "cell_type": "markdown",
      "id": "98e0fc60",
      "metadata": {
        "id": "98e0fc60"
      },
      "source": [
        "### Question 4: Write a Python program to find the most common character in a string.\n",
        "\n",
        "- `sample input : `\n",
        "    - `var = 'Hello world '`\n",
        "- `sample output :`\n",
        "    - `result : l, because l is repeating 3 times `"
      ]
    },
    {
      "cell_type": "code",
      "execution_count": null,
      "id": "d9aa4ca6",
      "metadata": {
        "id": "d9aa4ca6"
      },
      "outputs": [],
      "source": [
        "# Please write The solution Here for above question 4:\n",
        "pass\n",
        "\n",
        "\n"
      ]
    },
    {
      "cell_type": "markdown",
      "id": "17eb44eb",
      "metadata": {
        "id": "17eb44eb"
      },
      "source": [
        "### Question 5: Write a Python program to check if two strings are anagrams.\n",
        "\n",
        "- `sample input : `\n",
        "    - `var1 = 'listen'`\n",
        "    - `var2 = 'silent'`\n",
        "- `sample output :`\n",
        "    - `result : both are anagram because characters in var2 is in var1`"
      ]
    },
    {
      "cell_type": "code",
      "execution_count": null,
      "id": "29f0e87e",
      "metadata": {
        "id": "29f0e87e",
        "outputId": "0039d83c-2166-4905-96ee-587eeb26dcab",
        "colab": {
          "base_uri": "https://localhost:8080/"
        }
      },
      "outputs": [
        {
          "output_type": "stream",
          "name": "stdout",
          "text": [
            "both are anagrams because character in var2 is in var1\n"
          ]
        }
      ],
      "source": [
        "# Please write The solution Here for above question 5:\n",
        "a = 'pramod'\n",
        "a = 'reddy'\n",
        "\n",
        "for i in b:\n",
        "    if i in a:\n",
        "       output = 'both are anagrams because character in var2 is in var1'\n",
        "    else:\n",
        "        output= 'both are bot anaragrams because characters in var2 is not in var1'\n",
        "        break\n",
        "print(output)"
      ]
    },
    {
      "cell_type": "markdown",
      "id": "fac17884",
      "metadata": {
        "id": "fac17884"
      },
      "source": [
        "### Question 6: Write a Python program to remove all the vowels from a string.\n",
        "\n",
        "- `sample input : `\n",
        "    - `var = 'python'`\n",
        "- `sample output :`\n",
        "    - `result : pythn , because vowels are [AEIOUaeiou]`"
      ]
    },
    {
      "cell_type": "code",
      "execution_count": null,
      "id": "f4b33095",
      "metadata": {
        "id": "f4b33095",
        "colab": {
          "base_uri": "https://localhost:8080/"
        },
        "outputId": "7be8a86a-a5dc-4a33-dcdb-47415a370667"
      },
      "outputs": [
        {
          "output_type": "stream",
          "name": "stdout",
          "text": [
            "prmd, beacuse vowels are [AEIOUaeiou]\n"
          ]
        }
      ],
      "source": [
        "from os import remove\n",
        "# Please write The solution Here for above question 6:\n",
        "a = 'pramod'\n",
        "vowels = 'AEIOUaeiou'\n",
        "output = ''\n",
        "for i in a:\n",
        "    if i not in vowels:\n",
        "        output = output+i\n",
        "    else:\n",
        "        continue\n",
        "print(f'{output}, beacuse vowels are [{vowels}]')\n",
        "\n"
      ]
    },
    {
      "cell_type": "markdown",
      "id": "2170d6f4",
      "metadata": {
        "id": "2170d6f4"
      },
      "source": [
        "### Question 7: Write a Python program to find the longest word in a string.\n",
        "\n",
        "- `sample input : `\n",
        "    - `var = 'python is Easy Language'`\n",
        "- `sample output :`\n",
        "    - `result : Language`"
      ]
    },
    {
      "cell_type": "code",
      "execution_count": null,
      "id": "f35de8b3",
      "metadata": {
        "id": "f35de8b3"
      },
      "outputs": [],
      "source": [
        "# Please write The solution Here for above question 7:\n",
        "pass"
      ]
    },
    {
      "cell_type": "markdown",
      "id": "f349bdb7",
      "metadata": {
        "id": "f349bdb7"
      },
      "source": [
        "### Question 8: Write a Python program to capitalize the first letter of each word in a string [dont use built-in-function title].\n",
        "\n",
        "- `sample input : `\n",
        "    - `var = 'python is easy'`\n",
        "- `sample output :`\n",
        "    - `result : Python Is Easy`"
      ]
    },
    {
      "cell_type": "code",
      "execution_count": null,
      "id": "a1b4c4e6",
      "metadata": {
        "id": "a1b4c4e6",
        "outputId": "47652652-333b-4389-b62b-8fb08b02c191",
        "colab": {
          "base_uri": "https://localhost:8080/"
        }
      },
      "outputs": [
        {
          "output_type": "stream",
          "name": "stdout",
          "text": [
            "Python Is Easy\n"
          ]
        }
      ],
      "source": [
        "a = 'python is easy'\n",
        "a = a.replace('p', 'P').replace('i', 'I').replace('e','E')\n",
        "print(a)\n"
      ]
    },
    {
      "cell_type": "markdown",
      "id": "d2770696",
      "metadata": {
        "id": "d2770696"
      },
      "source": [
        "### Question 9: Write a Python program to find the frequency of each character in a string.\n",
        "\n",
        "- `sample input : `\n",
        "    - `var = 'sharuk khan'`\n",
        "- `sample output :`\n",
        "    - `result : {'s': 1, 'h': 2, 'a': 2, 'r': 1, 'u': 1, 'k': 2, ' ': 1, 'n': 1}`"
      ]
    },
    {
      "cell_type": "code",
      "execution_count": null,
      "id": "7fdc2e9c",
      "metadata": {
        "id": "7fdc2e9c"
      },
      "outputs": [],
      "source": [
        "# Please write The solution Here for above question 9:\n",
        "\n",
        "pass"
      ]
    },
    {
      "cell_type": "markdown",
      "id": "5c9a3f09",
      "metadata": {
        "id": "5c9a3f09"
      },
      "source": [
        "### Question 10: write a python programme to find the sum of all the even characters based on Ascii values\n",
        "\n",
        "- `sample input : `\n",
        "    - `var = 'sharuk khan'`\n",
        "- `sample output :`\n",
        "    - `result : 464`\n"
      ]
    },
    {
      "cell_type": "code",
      "execution_count": null,
      "id": "57c0c30e",
      "metadata": {
        "id": "57c0c30e",
        "colab": {
          "base_uri": "https://localhost:8080/"
        },
        "outputId": "948acb48-6560-4450-9557-b98db9809352"
      },
      "outputs": [
        {
          "output_type": "stream",
          "name": "stdout",
          "text": [
            "326\n"
          ]
        }
      ],
      "source": [
        "# Please write The solution Here for above question 10:\n",
        "a = 'pramod'\n",
        "b = 0\n",
        "for i in a:\n",
        "    i=ord(i)\n",
        "    if i%2 == 0:\n",
        "        b = b + i\n",
        "print(b)\n",
        "\n",
        "\n"
      ]
    },
    {
      "cell_type": "code",
      "execution_count": null,
      "id": "0cb2936c",
      "metadata": {
        "id": "0cb2936c"
      },
      "outputs": [],
      "source": []
    }
  ],
  "metadata": {
    "kernelspec": {
      "display_name": "Python 3 (ipykernel)",
      "language": "python",
      "name": "python3"
    },
    "language_info": {
      "codemirror_mode": {
        "name": "ipython",
        "version": 3
      },
      "file_extension": ".py",
      "mimetype": "text/x-python",
      "name": "python",
      "nbconvert_exporter": "python",
      "pygments_lexer": "ipython3",
      "version": "3.11.5"
    },
    "colab": {
      "provenance": []
    }
  },
  "nbformat": 4,
  "nbformat_minor": 5
}